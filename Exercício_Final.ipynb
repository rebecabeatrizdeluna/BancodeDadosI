{
  "nbformat": 4,
  "nbformat_minor": 0,
  "metadata": {
    "colab": {
      "provenance": [],
      "include_colab_link": true
    },
    "kernelspec": {
      "name": "python3",
      "display_name": "Python 3"
    },
    "language_info": {
      "name": "python"
    }
  },
  "cells": [
    {
      "cell_type": "markdown",
      "metadata": {
        "id": "view-in-github",
        "colab_type": "text"
      },
      "source": [
        "<a href=\"https://colab.research.google.com/github/rebecabeatrizdeluna/BancodeDadosI/blob/main/Exerc%C3%ADcio_Final.ipynb\" target=\"_parent\"><img src=\"https://colab.research.google.com/assets/colab-badge.svg\" alt=\"Open In Colab\"/></a>"
      ]
    },
    {
      "cell_type": "markdown",
      "source": [
        "# Contagem de Medalhas\n",
        "\n",
        "Crie um programa que receba o número de medalhas de ouro, prata e bronze de um país nas Olimpíadas e calcule o total de medalhas.\n",
        "Quando escrever 'sair', o programa deverá encerrar e mostrar na tela o ranking de medalhas no formato:"
      ],
      "metadata": {
        "id": "RQN1e5FZY6SZ"
      }
    },
    {
      "cell_type": "code",
      "source": [
        "#Ranking de medalhas:\n",
        "#Brasil: 7 medalhas\n",
        "#França: 6 medalhas\n",
        "#Argentina: 3 medalhas"
      ],
      "metadata": {
        "id": "gCq_KLHzZSzb"
      },
      "execution_count": null,
      "outputs": []
    },
    {
      "cell_type": "code",
      "execution_count": 5,
      "metadata": {
        "id": "AJJhjxiPTd5s"
      },
      "outputs": [],
      "source": [
        "# Resposta aqui\n",
        "def main():\n",
        "  ranking = {}\n",
        "\n",
        "  while True:\n",
        "    pais = input(\"Digite o nome do país ou 'sair' para encerrar: \")\n",
        "    if pais == 'sair':\n",
        "      break\n",
        "\n",
        "    ouro = input(\"Digite a quantidade de medalhas de ouro: \")\n",
        "    prata = input(\"Digite a quantidade de medalhas de prata: \")\n",
        "    bronze = input(\"Digite a quantidade de medalhas de bronze: \")\n",
        "\n",
        "    ouro = int(ouro)\n",
        "    prata = int(prata)\n",
        "    bronze = int(bronze)\n",
        "\n",
        "    total = ouro + prata + bronze\n",
        "    ranking[pais] = total\n",
        "\n",
        "  print(\"Ranking de Medalhas: \")\n",
        "  for pais in ranking:\n",
        "    print(pais + \": \" + str(ranking[pais]) + \"medalhas\")\n"
      ]
    }
  ]
}